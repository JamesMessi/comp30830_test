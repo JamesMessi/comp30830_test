{
 "cells": [
  {
   "cell_type": "code",
   "execution_count": 1,
   "id": "931405e4",
   "metadata": {},
   "outputs": [
    {
     "name": "stdout",
     "output_type": "stream",
     "text": [
      "{'coord': {'lon': -6.2672, 'lat': 53.344}, 'weather': [{'id': 803, 'main': 'Clouds', 'description': 'broken clouds', 'icon': '04n'}], 'base': 'stations', 'main': {'temp': 277.36, 'feels_like': 275.53, 'temp_min': 276.25, 'temp_max': 278.15, 'pressure': 1029, 'humidity': 73}, 'visibility': 10000, 'wind': {'speed': 2.06, 'deg': 250}, 'clouds': {'all': 75}, 'dt': 1677968115, 'sys': {'type': 2, 'id': 2037117, 'country': 'IE', 'sunrise': 1677913613, 'sunset': 1677953232}, 'timezone': 0, 'id': 2964574, 'name': 'Dublin', 'cod': 200}\n"
     ]
    }
   ],
   "source": [
    "import requests\n",
    "\n",
    "api_key = '65c931bf3d4f99dfdcfe83fb7a16fac8'\n",
    "city = 'Dublin,IE'\n",
    "\n",
    "url = f'https://api.openweathermap.org/data/2.5/weather?q={city}&appid={api_key}&units=\"metric\"'\n",
    "\n",
    "response = requests.get(url)\n",
    "\n",
    "if response.status_code == 200:\n",
    "    data = response.json()\n",
    "    print(data)\n",
    "else:\n",
    "    print('Failed to retrieve weather data')"
   ]
  },
  {
   "cell_type": "code",
   "execution_count": 2,
   "id": "6ba9e6f2",
   "metadata": {},
   "outputs": [],
   "source": [
    "import sqlalchemy as sqla\n",
    "from sqlalchemy import create_engine\n",
    "import traceback\n",
    "import glob\n",
    "import os\n",
    "from pprint import pprint\n",
    "import simplejson as json\n",
    "import requests\n",
    "import time\n",
    "from IPython.display import display"
   ]
  },
  {
   "cell_type": "code",
   "execution_count": 3,
   "id": "6b911c54",
   "metadata": {},
   "outputs": [],
   "source": [
    "URI=\"dbbikes.chdxsa0c6itr.eu-west-1.rds.amazonaws.com\"\n",
    "PORT=3306\n",
    "DB=\"dbbikes\"\n",
    "USER=\"admin\"\n",
    "PASSWORD=\"xiaoxin123\"\n",
    "engine=create_engine(\"mysql+mysqldb://{}:{}@{}:{}/{}\".format(USER,PASSWORD,URI,PORT,DB),echo=True)"
   ]
  },
  {
   "cell_type": "code",
   "execution_count": 4,
   "id": "957e590c",
   "metadata": {},
   "outputs": [
    {
     "name": "stdout",
     "output_type": "stream",
     "text": [
      "2023-03-04 22:18:36,545 INFO sqlalchemy.engine.Engine SELECT DATABASE()\n",
      "2023-03-04 22:18:36,547 INFO sqlalchemy.engine.Engine [raw sql] ()\n",
      "2023-03-04 22:18:36,975 INFO sqlalchemy.engine.Engine SELECT @@sql_mode\n",
      "2023-03-04 22:18:36,978 INFO sqlalchemy.engine.Engine [raw sql] ()\n",
      "2023-03-04 22:18:36,985 INFO sqlalchemy.engine.Engine SELECT @@lower_case_table_names\n",
      "2023-03-04 22:18:36,987 INFO sqlalchemy.engine.Engine [raw sql] ()\n",
      "2023-03-04 22:18:37,007 INFO sqlalchemy.engine.Engine \n",
      "Create database if not exists dbbikes;\n",
      "\n",
      "2023-03-04 22:18:37,008 INFO sqlalchemy.engine.Engine [raw sql] ()\n",
      "2023-03-04 22:18:37,017 INFO sqlalchemy.engine.Engine COMMIT\n"
     ]
    },
    {
     "data": {
      "text/plain": [
       "<sqlalchemy.engine.cursor.LegacyCursorResult at 0x7fb310a7d790>"
      ]
     },
     "execution_count": 4,
     "metadata": {},
     "output_type": "execute_result"
    }
   ],
   "source": [
    "sql=\"\"\"\n",
    "Create database if not exists dbbikes;\n",
    "\"\"\"\n",
    "engine.execute(sql)"
   ]
  },
  {
   "cell_type": "code",
   "execution_count": 5,
   "id": "5a03722e",
   "metadata": {},
   "outputs": [
    {
     "name": "stdout",
     "output_type": "stream",
     "text": [
      "2023-03-04 22:18:37,047 INFO sqlalchemy.engine.Engine \n",
      "create table if not exists weather(\n",
      "number int primary key,\n",
      "weather varchar(64),\n",
      "temp float,\n",
      "feel_temp float,\n",
      "min_temp float,\n",
      "max_temp float,\n",
      "pressure int,\n",
      "humidity int,\n",
      "visibility int,\n",
      "wind_speed float,\n",
      "wind_deg int,\n",
      "time varchar(64))\n",
      "\n",
      "2023-03-04 22:18:37,049 INFO sqlalchemy.engine.Engine [raw sql] ()\n",
      "2023-03-04 22:18:37,058 INFO sqlalchemy.engine.Engine COMMIT\n",
      "This result object does not return rows. It has been closed automatically.\n"
     ]
    }
   ],
   "source": [
    "# create table\n",
    "sql=\"\"\"\n",
    "create table if not exists weather(\n",
    "number int primary key,\n",
    "weather varchar(64),\n",
    "temp float,\n",
    "feel_temp float,\n",
    "min_temp float,\n",
    "max_temp float,\n",
    "pressure int,\n",
    "humidity int,\n",
    "visibility int,\n",
    "wind_speed float,\n",
    "wind_deg int,\n",
    "time varchar(64))\n",
    "\"\"\"\n",
    "try:\n",
    "    res=engine.execute(sql)\n",
    "    print(res.fetchall())\n",
    "except Exception as e:\n",
    "    print(e)"
   ]
  },
  {
   "cell_type": "code",
   "execution_count": 6,
   "id": "81d1dc3f",
   "metadata": {},
   "outputs": [],
   "source": [
    "import requests\n",
    "import traceback\n",
    "import datetime\n",
    "import time\n",
    "import json\n",
    "api_key = '65c931bf3d4f99dfdcfe83fb7a16fac8'\n",
    "city = 'Dublin,IE'\n",
    "url = f'https://api.openweathermap.org/data/2.5/weather?q={city}&appid={api_key}&units=\"metric\"'"
   ]
  },
  {
   "cell_type": "code",
   "execution_count": 7,
   "id": "141d0453",
   "metadata": {},
   "outputs": [],
   "source": [
    "def writeWeather_to_file(r):\n",
    "    now=datetime.datetime.now()\n",
    "    with open(\"weather/weather_{}\".format(now).replace(\" \",\"_\"),\"w\") as f:\n",
    "        f.write(str(r))"
   ]
  },
  {
   "cell_type": "code",
   "execution_count": 8,
   "id": "4218efd9",
   "metadata": {},
   "outputs": [],
   "source": [
    "def weather_to_db(text,number):\n",
    "    weather=text\n",
    "    now=datetime.datetime.now()\n",
    "    print(type(weather),len(weather))\n",
    "    print(weather)\n",
    "    print(weather.get(\"weather\")[0].get(\"main\"))\n",
    "    weather_vals=(number,weather.get(\"weather\")[0].get(\"main\"),weather.get(\"main\").get(\"temp\"),weather.get(\"main\").get(\"feels_like\"),weather.get(\"main\").get(\"temp_min\"),weather.get(\"main\").get(\"temp_max\"),weather.get(\"main\").get(\"pressure\"),weather.get(\"main\").get(\"humidity\"),weather.get(\"visibility\"),weather.get(\"wind\").get(\"speed\"),weather.get(\"wind\").get(\"deg\"),now)\n",
    "    engine.execute(\"insert into weather values(%s,%s,%s,%s,%s,%s,%s,%s,%s,%s,%s,%s)\",weather_vals)\n",
    "    return\n"
   ]
  },
  {
   "cell_type": "code",
   "execution_count": 10,
   "id": "d8dbd732",
   "metadata": {},
   "outputs": [
    {
     "name": "stdout",
     "output_type": "stream",
     "text": [
      "{'coord': {'lon': -6.2672, 'lat': 53.344}, 'weather': [{'id': 803, 'main': 'Clouds', 'description': 'broken clouds', 'icon': '04n'}], 'base': 'stations', 'main': {'temp': 277.36, 'feels_like': 275.53, 'temp_min': 276.25, 'temp_max': 278.15, 'pressure': 1029, 'humidity': 73}, 'visibility': 10000, 'wind': {'speed': 2.06, 'deg': 250}, 'clouds': {'all': 75}, 'dt': 1677968115, 'sys': {'type': 2, 'id': 2037117, 'country': 'IE', 'sunrise': 1677913613, 'sunset': 1677953232}, 'timezone': 0, 'id': 2964574, 'name': 'Dublin', 'cod': 200}\n",
      "<class 'dict'> 13\n",
      "{'coord': {'lon': -6.2672, 'lat': 53.344}, 'weather': [{'id': 803, 'main': 'Clouds', 'description': 'broken clouds', 'icon': '04n'}], 'base': 'stations', 'main': {'temp': 277.36, 'feels_like': 275.53, 'temp_min': 276.25, 'temp_max': 278.15, 'pressure': 1029, 'humidity': 73}, 'visibility': 10000, 'wind': {'speed': 2.06, 'deg': 250}, 'clouds': {'all': 75}, 'dt': 1677968115, 'sys': {'type': 2, 'id': 2037117, 'country': 'IE', 'sunrise': 1677913613, 'sunset': 1677953232}, 'timezone': 0, 'id': 2964574, 'name': 'Dublin', 'cod': 200}\n",
      "Clouds\n",
      "2023-03-04 22:19:23,009 INFO sqlalchemy.engine.Engine insert into weather values(%s,%s,%s,%s,%s,%s,%s,%s,%s,%s,%s,%s)\n",
      "2023-03-04 22:19:23,011 INFO sqlalchemy.engine.Engine [raw sql] (2, 'Clouds', 277.36, 275.53, 276.25, 278.15, 1029, 73, 10000, 2.06, 250, datetime.datetime(2023, 3, 4, 22, 19, 23, 8545))\n",
      "2023-03-04 22:19:23,020 INFO sqlalchemy.engine.Engine COMMIT\n"
     ]
    },
    {
     "ename": "KeyboardInterrupt",
     "evalue": "",
     "output_type": "error",
     "traceback": [
      "\u001b[0;31m---------------------------------------------------------------------------\u001b[0m",
      "\u001b[0;31mKeyboardInterrupt\u001b[0m                         Traceback (most recent call last)",
      "\u001b[0;32m/var/folders/wr/7y3zysbj7v98hljgp945drfc0000gn/T/ipykernel_2771/4140093512.py\u001b[0m in \u001b[0;36m<module>\u001b[0;34m\u001b[0m\n\u001b[1;32m     14\u001b[0m     \u001b[0mnumber\u001b[0m\u001b[0;34m+=\u001b[0m\u001b[0;36m1\u001b[0m\u001b[0;34m\u001b[0m\u001b[0;34m\u001b[0m\u001b[0m\n\u001b[1;32m     15\u001b[0m     \u001b[0mgetData\u001b[0m\u001b[0;34m(\u001b[0m\u001b[0;34m)\u001b[0m\u001b[0;34m\u001b[0m\u001b[0;34m\u001b[0m\u001b[0m\n\u001b[0;32m---> 16\u001b[0;31m     \u001b[0mtime\u001b[0m\u001b[0;34m.\u001b[0m\u001b[0msleep\u001b[0m\u001b[0;34m(\u001b[0m\u001b[0;36m2\u001b[0m\u001b[0;34m*\u001b[0m\u001b[0;36m60\u001b[0m\u001b[0;34m*\u001b[0m\u001b[0;36m60\u001b[0m\u001b[0;34m)\u001b[0m\u001b[0;34m\u001b[0m\u001b[0;34m\u001b[0m\u001b[0m\n\u001b[0m\u001b[1;32m     17\u001b[0m \u001b[0;34m\u001b[0m\u001b[0m\n",
      "\u001b[0;31mKeyboardInterrupt\u001b[0m: "
     ]
    }
   ],
   "source": [
    "def getData():\n",
    "    try:\n",
    "        now=datetime.datetime.now()\n",
    "        r= requests.get(url)\n",
    "        r=r.json()\n",
    "        print(r)\n",
    "        writeWeather_to_file(r)\n",
    "        weather_to_db(r,number)\n",
    "    except:\n",
    "        print(traceback.format_exc())\n",
    "    return\n",
    "number=1\n",
    "while True:\n",
    "    number+=1\n",
    "    getData()\n",
    "    time.sleep(2*60*60)\n",
    "    "
   ]
  },
  {
   "cell_type": "code",
   "execution_count": null,
   "id": "2a6c9f9d",
   "metadata": {},
   "outputs": [],
   "source": []
  },
  {
   "cell_type": "code",
   "execution_count": null,
   "id": "6157da28",
   "metadata": {},
   "outputs": [],
   "source": []
  },
  {
   "cell_type": "code",
   "execution_count": null,
   "id": "15218f88",
   "metadata": {},
   "outputs": [],
   "source": []
  }
 ],
 "metadata": {
  "kernelspec": {
   "display_name": "Python 3 (ipykernel)",
   "language": "python",
   "name": "python3"
  },
  "language_info": {
   "codemirror_mode": {
    "name": "ipython",
    "version": 3
   },
   "file_extension": ".py",
   "mimetype": "text/x-python",
   "name": "python",
   "nbconvert_exporter": "python",
   "pygments_lexer": "ipython3",
   "version": "3.9.13"
  }
 },
 "nbformat": 4,
 "nbformat_minor": 5
}
